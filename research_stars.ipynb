{
 "cells": [
  {
   "cell_type": "code",
   "execution_count": null,
   "metadata": {},
   "outputs": [],
   "source": [
    "import numpy as np\n",
    "import pandas as pd\n",
    "from astropy.coordinates import EarthLocation, AltAz, SkyCoord\n",
    "from astropy.time import Time\n",
    "import astropy.units as u\n",
    "from astropy.coordinates import get_sun"
   ]
  },
  {
   "cell_type": "code",
   "execution_count": null,
   "metadata": {},
   "outputs": [],
   "source": [
    "# 1. Определение координат наблюдателя (Москва)\n",
    "observer_location = EarthLocation(lat=55.0*u.deg, lon=37.0*u.deg, height=200*u.m)\n",
    "\n",
    "# 2. Время наблюдения для эпохи Hipparcos (J1991.25)\n",
    "time = Time('1991-04-02T00:00:00', scale='utc')\n",
    "\n",
    "# 3. Поле зрения камеры и высота/азимут (центр на зените, угол обзора 18°x18°)\n",
    "fov_alt_center = 90 * u.deg  # высота центра - зенит\n",
    "fov_az_center = 0 * u.deg  # азимут для центра (зенит)\n",
    "\n",
    "# Поле зрения камеры: границы по высоте и азимуту\n",
    "fov_alt_min = (fov_alt_center - 40 * u.deg).to(u.deg)\n",
    "fov_alt_max = (fov_alt_center + 40 * u.deg).to(u.deg)\n",
    "fov_az_min = (fov_az_center - 40 * u.deg).to(u.deg)\n",
    "fov_az_max = (fov_az_center + 40 * u.deg).to(u.deg)"
   ]
  },
  {
   "cell_type": "code",
   "execution_count": null,
   "metadata": {},
   "outputs": [],
   "source": [
    "time"
   ]
  },
  {
   "cell_type": "code",
   "execution_count": null,
   "metadata": {},
   "outputs": [],
   "source": [
    "print(f'alt_center: {fov_alt_center} \\naz_center: {fov_az_center}')"
   ]
  },
  {
   "cell_type": "code",
   "execution_count": null,
   "metadata": {},
   "outputs": [],
   "source": [
    "observer_location"
   ]
  },
  {
   "cell_type": "code",
   "execution_count": null,
   "metadata": {},
   "outputs": [],
   "source": [
    "# 4. Чтение звездного каталога (файл Hipparcos в формате CSV)\n",
    "df = pd.read_csv('Catalogue.csv')\n",
    "\n",
    "stars = SkyCoord(ra=df['RA']*u.deg, dec=df['Dec']*u.deg, frame='icrs')\n",
    "\n",
    "# 5. Преобразование в горизонтальную систему координат (Alt-Az)\n",
    "altaz_frame = AltAz(obstime=time, location=observer_location)\n",
    "stars_altaz = stars.transform_to(altaz_frame)\n",
    "\n",
    "# Выведем несколько первых звезд, чтобы увидеть их Alt и Az\n",
    "print(\"Первые 10 звезд после преобразования в горизонтальную систему (Alt-Az):\")\n",
    "for i in range(10):\n",
    "    print(f\"Звезда {i+1}: Высота (Alt) = {stars_altaz.alt[i].deg}, Азимут (Az) = {stars_altaz.az[i].deg}\")"
   ]
  },
  {
   "cell_type": "code",
   "execution_count": null,
   "metadata": {},
   "outputs": [],
   "source": [
    "altaz_frame"
   ]
  },
  {
   "cell_type": "code",
   "execution_count": null,
   "metadata": {},
   "outputs": [],
   "source": [
    "# 6. Фильтрация звезд по полю зрения камеры (попадают ли звезды в диапазон высоты и азимута)\n",
    "in_fov = (stars_altaz.alt >= fov_alt_min) & (stars_altaz.alt <= fov_alt_max) & \\\n",
    "         (stars_altaz.az >= fov_az_min) & (stars_altaz.az <= fov_az_max)\n",
    "\n",
    "\n",
    "print(f\"Количество звезд в поле зрения камеры: {np.sum(in_fov)}\")\n",
    "\n",
    "# Отфильтрованные звезды\n",
    "filtered_stars = df[in_fov]\n",
    "\n",
    "# 7. Сохранение отфильтрованных звезд в новый файл\n",
    "#filtered_stars.to_csv('filtered_stars.csv', index=False)\n"
   ]
  },
  {
   "cell_type": "code",
   "execution_count": null,
   "metadata": {},
   "outputs": [],
   "source": [
    "in_fov"
   ]
  },
  {
   "cell_type": "code",
   "execution_count": null,
   "metadata": {},
   "outputs": [],
   "source": [
    "filtered_stars"
   ]
  },
  {
   "cell_type": "code",
   "execution_count": null,
   "metadata": {},
   "outputs": [],
   "source": [
    "import matplotlib.pyplot as plt\n",
    "\n",
    "\n",
    "ra = stars.ra[in_fov].deg    # Прямое восхождение звезд в поле зрения\n",
    "dec = stars.dec[in_fov].deg  # Склонение звезд в поле зрения\n",
    "\n",
    "# Определим центр поля зрения\n",
    "ra_center = np.median(ra)  # Медианное значение по RA\n",
    "dec_center = np.median(dec)  # Медианное значение по Dec\n",
    "\n",
    "# Размеры поля зрения камеры (80x80 градусов)\n",
    "ra_fov = 10  # Поле зрения по RA\n",
    "dec_fov = 10 # Поле зрения по Dec\n",
    "\n",
    "# Создаем черный фон для графика\n",
    "fig, ax = plt.subplots(figsize=(8, 8), facecolor='black')\n",
    "ax.set_facecolor('black')\n",
    "\n",
    "# Устанавливаем границы графика по RA и Dec согласно полю зрения камеры\n",
    "ax.set_xlim(ra_center - ra_fov / 2, ra_center + ra_fov / 2)  # Отклонение в пределах 40 градусов по RA\n",
    "ax.set_ylim(dec_center - dec_fov / 2, dec_center + dec_fov / 2)  # Отклонение в пределах 40 градусов по Dec\n",
    "\n",
    "# Убираем оси и сетку для эстетики\n",
    "#ax.set_xticks([])\n",
    "#ax.set_yticks([])\n",
    "#ax.grid(False)\n",
    "\n",
    "# Добавляем звезды как белые точки\n",
    "ax.scatter(ra, dec, c='white', s=1, alpha=0.75)\n",
    "\n",
    "# Отметим точку центра поля зрения для проверки\n",
    "#ax.scatter([ra_center], [dec_center], c='red', s=50, label='Center of FOV')\n",
    "\n",
    "# Добавляем подписи для ориентации\n",
    "#ax.text(ra_center + (ra_fov / 2) - 2, dec_center, 'East', color='white', ha='center', va='center')\n",
    "#ax.text(ra_center - (ra_fov / 2) + 2, dec_center, 'West', color='white', ha='center', va='center')\n",
    "\n",
    "# Отображаем график\n",
    "plt.show()"
   ]
  },
  {
   "cell_type": "code",
   "execution_count": null,
   "metadata": {},
   "outputs": [],
   "source": [
    "print(stars_altaz.alt[in_fov].deg[:10])  # Высота\n",
    "print(stars_altaz.az[in_fov].deg[:10])  # Азимут"
   ]
  },
  {
   "cell_type": "code",
   "execution_count": null,
   "metadata": {},
   "outputs": [],
   "source": [
    "fov_alt_center = 90 * u.deg  # высота центра - зенит\n",
    "fov_az_center = 0 * u.deg  # азимут для центра (зенит)\n",
    "\n",
    "# Поле зрения камеры: границы по высоте и азимуту\n",
    "fov_alt_min = (fov_alt_center - 40 * u.deg).to(u.deg)\n",
    "fov_alt_max = (fov_alt_center + 40 * u.deg).to(u.deg)\n",
    "fov_az_min = (fov_az_center - 40 * u.deg).to(u.deg)\n",
    "fov_az_max = (fov_az_center + 40 * u.deg).to(u.deg)"
   ]
  },
  {
   "cell_type": "code",
   "execution_count": null,
   "metadata": {},
   "outputs": [],
   "source": [
    "df = pd.read_csv('Catalogue.csv')\n",
    "\n",
    "alpha = df['RA']  # Прямое восхождение в радианах\n",
    "delta = df['Dec']  # Склонение в радианах\n",
    "\n",
    "# Центр проекции (область интереса)\n",
    "alpha_0 = 90\n",
    "delta_0 = 45\n",
    "\n",
    "cot_delta = 1 / np.tan(delta)\n",
    "\n",
    "xi = (cot_delta * np.sin(alpha - alpha_0)) / (np.sin(delta_0) + cot_delta * np.cos(delta_0) * np.cos(alpha - alpha_0))\n",
    "\n",
    "eta = (np.cos(delta) - cot_delta * np.sin(delta_0) * np.cos(alpha - alpha_0)) / (np.sin(delta_0) + cot_delta * np.cos(delta_0) * np.cos(alpha - alpha_0))\n"
   ]
  },
  {
   "cell_type": "code",
   "execution_count": null,
   "metadata": {},
   "outputs": [],
   "source": [
    "new_in_fov = (xi >= fov_alt_min) & (xi<= fov_alt_max) & \\\n",
    "         (eta>= fov_az_min) & (eta <= fov_az_max)\n",
    "\n",
    "print(f\"Количество звезд в поле зрения камеры: {np.sum(in_fov)}\")\n",
    "\n",
    "# Отфильтрованные звезды\n",
    "new_filtered_stars = df[in_fov]"
   ]
  },
  {
   "cell_type": "code",
   "execution_count": null,
   "metadata": {},
   "outputs": [],
   "source": [
    "new_filtered_stars"
   ]
  },
  {
   "cell_type": "code",
   "execution_count": null,
   "metadata": {},
   "outputs": [],
   "source": [
    "# Создаем график с белыми точками на черном фоне\n",
    "plt.figure(figsize=(8, 8), facecolor='black')\n",
    "plt.scatter(xi, eta, color='white', s=1)\n",
    "\n",
    "# Настройка графика\n",
    "plt.xlim([-1, 1])\n",
    "plt.ylim([-1, 1])\n",
    "plt.gca().set_facecolor('black')\n",
    "plt.gca().set_aspect('equal')\n",
    "\n",
    "# Убираем оси\n",
    "plt.axis('off')\n",
    "\n",
    "# Показать график\n",
    "plt.show()"
   ]
  },
  {
   "cell_type": "markdown",
   "metadata": {},
   "source": [
    "На основе кода из MatLab"
   ]
  },
  {
   "cell_type": "code",
   "execution_count": null,
   "metadata": {},
   "outputs": [],
   "source": [
    "import numpy as np\n",
    "import pandas as pd\n",
    "import matplotlib.pyplot as plt\n",
    "\n",
    "# Загрузка каталога звёзд (предполагаем, что это CSV файл)\n",
    "catalogue = pd.read_csv('Catalogue.csv')  # CSV-файл каталога звёзд\n",
    "\n",
    "# Извлечение данных: RA, Dec и видимая величина звёзд\n",
    "ra = np.radians(catalogue['RA'])  # Прямое восхождение в радианах\n",
    "dec = np.radians(catalogue['Dec'])  # Склонение в радианах\n",
    "magnitude = catalogue['Mag']  # Звёздная величина"
   ]
  },
  {
   "cell_type": "code",
   "execution_count": null,
   "metadata": {},
   "outputs": [],
   "source": [
    "# Характеристики камеры\n",
    "resolution = [1280, 1038]  # Разрешение в пикселях\n",
    "pix = 16 / 1024  # Размер пикселя в мм\n",
    "matrix_size = np.array(resolution) * pix  # Размер матрицы камеры в мм\n",
    "magnitude_limit = 3.8  # Предельная звёздная величина\n",
    "fov = [580, 470]  # Поле зрения камеры (FOV) в градусах\n",
    "#fov = [100, 100]"
   ]
  },
  {
   "cell_type": "markdown",
   "metadata": {},
   "source": [
    "**Формула для высоты (13 - ВКР):**\n",
    "\n",
    "sin h = sin (delta)*sin(phi) + cos(delta)*cos(phi)*cos(H)\n",
    "\n",
    "Где:\n",
    "\n",
    "\t•\t delta  — склонение звезды,\n",
    "\t•\t phi  — широта места наблюдения,\n",
    "\t•\t H  — часовой угол.\n",
    "\n",
    "Эта формула описывает, как меняется высота звезды над горизонтом в зависимости от её склонения и часового угла для данного наблюдателя на Земле.\n",
    "\n",
    "\t•\t sin h  — это проекция звезды на плоскость горизонта. Для получения самой высоты h вычисляется арксинус от этого значения:\n",
    "\n",
    "\n",
    "h = arcsin(sinh)\n",
    "\n",
    "\n",
    "**Формула для азумута (13-ВКР):**\n",
    "\n",
    "\t- синус азимута A по формуле:\n",
    "\n",
    "sin(z)*sin(A) = cos(delta)*sin(H)\n",
    "\n",
    "\t- косинус азимута A:\n",
    "\n",
    "sin(z)*cos(A) = -sin(delta) + cos(delta)*sin(phi)*cos(H)\n"
   ]
  },
  {
   "cell_type": "code",
   "execution_count": null,
   "metadata": {},
   "outputs": [],
   "source": [
    "import numpy as np\n",
    "\n",
    "# Параметры наблюдателя (координаты зенита)\n",
    "lat = np.radians(55.0)  # широта Москвы в радианах\n",
    "lst = np.radians(11.0)  # местное звёздное время в радианах (примерное)\n",
    "\n",
    "# Фильтрация звёзд по предельной звёздной величине\n",
    "visible_stars = magnitude <= magnitude_limit\n",
    "ra_visible = ra[visible_stars]\n",
    "dec_visible = dec[visible_stars]\n",
    "magnitude_visible = magnitude[visible_stars]\n",
    "\n",
    "# Часовой угол (H) для каждой звезды\n",
    "H = lst - ra_visible\n",
    "\n",
    "# Формула для зенитного расстояния z\n",
    "cos_h = np.sin(dec_visible) * np.sin(lat) + np.cos(dec_visible) * np.cos(lat) * np.cos(H)\n",
    "cos_h = np.clip(cos_h, -1.0, 1.0)  # Ограничиваем значения для предотвращения ошибки arccos\n",
    "h = np.arccos(cos_h)  # зенитное расстояние в радианах\n",
    "\n",
    "# Зенитное расстояние (z) = 90° - высота\n",
    "z = np.pi / 2 - h\n",
    "\n",
    "# Формула для синуса азимута A\n",
    "sin_h_safe = np.where(np.abs(np.sin(h)) < 1e-10, 1e-10, np.sin(h))  # Избегаем деления на ноль\n",
    "sin_A = np.cos(dec_visible) * np.sin(H) / sin_h_safe\n",
    "\n",
    "# Формула для косинуса азимута A\n",
    "cos_A = (-np.sin(dec_visible) + np.cos(dec_visible) * np.sin(lat) * np.cos(H)) / sin_h_safe\n",
    "\n",
    "# Азимут\n",
    "A = np.arctan2(sin_A, cos_A)  # вычисление азимута через atan2\n",
    "\n",
    "# Печать результатов\n",
    "print(f\"Высота (h): {z}\")\n",
    "print(f\"Азимут (A): {A}\")"
   ]
  },
  {
   "cell_type": "code",
   "execution_count": null,
   "metadata": {},
   "outputs": [],
   "source": [
    "import numpy as np\n",
    "import pandas as pd\n",
    "import matplotlib.pyplot as plt\n",
    "\n",
    "class star_sky:\n",
    "    def __init__(self, RA, DEC, fov = [58, 47], magnitude_limit=3.8, pix= 16/1024):\n",
    "        # Загрузка каталога звёзд (предполагаем, что это CSV файл)\n",
    "        catalogue = pd.read_csv('Catalogue.csv')  # CSV-файл каталога звёзд\n",
    "\n",
    "        self.fov = fov\n",
    "\n",
    "        # координаты точки зенита в экваториальных координатах\n",
    "        self.RA = RA\n",
    "        self.DEC = DEC\n",
    "    \n",
    "        # Извлечение данных: RA, Dec и видимая величина звёзд\n",
    "        resolution = [1280, 1038]\n",
    "        self.ra = np.radians(catalogue['RA'])  # Прямое восхождение в радианах\n",
    "        self.dec = np.radians(catalogue['Dec'])  # Склонение в радианах\n",
    "        self.magnitude = catalogue['Mag']  # Звёздная величина\n",
    "        self.magnitude_limit = 3.8  # Предельная звёздная величина\n",
    "        self.matrix_size = np.array(resolution) * pix  # Размер матрицы камеры в \n",
    "\n",
    "    #TODO: переписать фукнцию перехода из экваториальных координат в горизонтальные с заданной точкой зенита\n",
    "    def transform(self, lat=np.radians(55.0) , lst=np.radians(11.0)):\n",
    "       # Параметры наблюдателя (координаты зенита)\n",
    "        lat = np.radians(55.0)  # широта Москвы в радианах\n",
    "        lst = np.radians(11.0)  # местное звёздное время в радианах (примерное)\n",
    "\n",
    "        # Фильтрация звёзд по предельной звёздной величине\n",
    "        visible_stars = self.magnitude <= magnitude_limit\n",
    "        ra_visible = ra[visible_stars]\n",
    "        dec_visible = dec[visible_stars]\n",
    "        magnitude_visible = magnitude[visible_stars]\n",
    "\n",
    "        # Часовой угол (H) для каждой звезды\n",
    "        H = lst - ra_visible\n",
    "\n",
    "        #Формула для зенитного расстояния z\n",
    "        cos_h = np.sin(dec_visible) * np.sin(lat) + np.cos(dec_visible) * np.cos(lat) * np.cos(H)\n",
    "        cos_h = np.clip(cos_h, -1.0, 1.0)  # Ограничиваем значения для предотвращения ошибки arccos\n",
    "        h = np.arccos(cos_h)  # зенитное расстояние в радианах\n",
    "\n",
    "        # Зенитное расстояние (z) = 90° - высота\n",
    "        z = np.pi / 2 - h\n",
    "\n",
    "        # Формула для синуса азимута A\n",
    "        sin_h_safe = np.where(np.abs(np.sin(h)) < 1e-10, 1e-10, np.sin(h))  # Избегаем деления на ноль\n",
    "        sin_A = np.cos(dec_visible) * np.sin(H) / sin_h_safe\n",
    "\n",
    "        # Формула для косинуса азимута A\n",
    "        cos_A = (-np.sin(dec_visible) + np.cos(dec_visible) * np.sin(lat) * np.cos(H)) / sin_h_safe\n",
    "\n",
    "        # Азимут\n",
    "        A = np.arctan2(sin_A, cos_A)  # вычисление азимута через atan2\n",
    "\n",
    "        return (A,z,magnitude_visible, h)\n",
    "\n",
    "    def filtering_stars(self, A, z, magnitude_visible, h):\n",
    "        # Фильтрация звёзд, которые находятся выше горизонта\n",
    "        above_horizon = h >= 0\n",
    "        z_above = z[above_horizon]\n",
    "        A_above = A[above_horizon]\n",
    "        magnitude_above = magnitude_visible[above_horizon]\n",
    "\n",
    "        # Углы поля зрения (в радианах)\n",
    "        angle_x = np.radians(self.fov[0] / 2)  # Половина углового поля зрения по горизонтали\n",
    "        angle_y = np.radians(self.fov[1] / 2)  # Половина углового поля зрения по вертикали\n",
    "\n",
    "        # Нахождение границ ksi (lx) и eta (ly)\n",
    "        lx = abs((np.sin(np.pi / 2 + angle_x) * np.cos(np.pi / 2) - np.cos(np.pi / 2 + angle_x) * np.sin(np.pi / 2) * np.cos(0)) / \\\n",
    "            (np.sin(np.pi / 2) * np.sin(np.pi / 2 + angle_x) + np.cos(np.pi / 2 + angle_x) * np.cos(np.pi / 2) * np.cos(0)))\n",
    "\n",
    "        ly = abs((np.sin(np.pi / 2 + angle_y) * np.cos(np.pi / 2) - np.cos(np.pi / 2 + angle_y) * np.sin(np.pi / 2) * np.cos(0)) / \\\n",
    "             (np.sin(np.pi / 2) * np.sin(np.pi / 2 + angle_y) + np.cos(np.pi / 2 + angle_y) * np.cos(np.pi / 2) * np.cos(0)))\n",
    "\n",
    "        # Применение стереографической проекции для координат (A, z)\n",
    "        x_proj = np.tan(z_above / 2) * np.cos(A_above)  # ksi\n",
    "        y_proj = np.tan(z_above / 2) * np.sin(A_above) # eta\n",
    "\n",
    "        # Звезды, которые находятся в поле зрения\n",
    "        in_fov = (x_proj >= -lx) & (x_proj <= lx) & (y_proj >= -ly) & (y_proj <= ly) # маска для массива \n",
    "        x_fov = np.degrees(x_proj[in_fov])\n",
    "        y_fov = np.degrees(y_proj[in_fov])\n",
    "        magnitude_fov = magnitude_above[in_fov]\n",
    "\n",
    "        return (x_fov, y_fov, magnitude_fov), (lx, ly)\n",
    "\n",
    "\n",
    "    def get_image(self, x_fov, y_fov, bords, mag = None):\n",
    "        lx, ly = bords\n",
    "        # Настройка графика\n",
    "        plt.figure(figsize=(8, 8),facecolor='black')\n",
    "        plt.scatter(x_fov, y_fov, s=1, color='white')\n",
    "\n",
    "        # Настройки графика\n",
    "        plt.xlim([-lx, lx])\n",
    "        plt.ylim([-ly, ly])\n",
    "        plt.gca().set_facecolor('black')\n",
    "        plt.gca().set_aspect('equal')\n",
    "        #plt.axis('off')\n",
    "\n",
    "        # Показать график\n",
    "        plt.show()"
   ]
  },
  {
   "cell_type": "markdown",
   "metadata": {},
   "source": [
    "RA = 1.7421845947129944\n",
    "Dec = -0.3832227200588656"
   ]
  },
  {
   "cell_type": "code",
   "execution_count": 1,
   "metadata": {},
   "outputs": [
    {
     "name": "stdout",
     "output_type": "stream",
     "text": [
      "количество звезд, которые не больше заданной зв: 524 \n",
      "Звезды, которые попадают в объектив: 10\n"
     ]
    },
    {
     "data": {
      "image/png": "[encoded data removed]",
      "text/plain": [
       "<Figure size 800x800 with 1 Axes>"
      ]
     },
     "metadata": {},
     "output_type": "display_data"
    }
   ],
   "source": [
    "from star_sky_image import star_sky\n",
    "model = star_sky(RA=1.7421845947129944, DEC=-0.3832227200588656, fov=[58, 47], magnitude_limit=4.0)\n",
    "A,z,magnitude_visible = model.transform()\n",
    "(x_fov, y_fov, magnitude_fov), bords = model.filtering_stars(A, z, magnitude_visible)\n",
    "\n",
    "model.get_image(x_fov, y_fov, bords)"
   ]
  },
  {
   "cell_type": "code",
   "execution_count": null,
   "metadata": {},
   "outputs": [],
   "source": [
    "# Фильтрация звёзд, которые находятся выше горизонта\n",
    "above_horizon = h >= 0\n",
    "z_above = z[above_horizon]\n",
    "A_above = A[above_horizon]\n",
    "magnitude_above = magnitude_visible[above_horizon]\n",
    "\n",
    "# Углы поля зрения (в радианах)\n",
    "angle_x = np.radians(fov[0] / 2)  # Половина углового поля зрения по горизонтали\n",
    "angle_y = np.radians(fov[1] / 2)  # Половина углового поля зрения по вертикали\n",
    "\n",
    "# Нахождение границ ksi (lx) и eta (ly)\n",
    "lx = abs((np.sin(np.pi / 2 + angle_x) * np.cos(np.pi / 2) - np.cos(np.pi / 2 + angle_x) * np.sin(np.pi / 2) * np.cos(0)) / \\\n",
    "         (np.sin(np.pi / 2) * np.sin(np.pi / 2 + angle_x) + np.cos(np.pi / 2 + angle_x) * np.cos(np.pi / 2) * np.cos(0)))\n",
    "\n",
    "ly = abs((np.sin(np.pi / 2 + angle_y) * np.cos(np.pi / 2) - np.cos(np.pi / 2 + angle_y) * np.sin(np.pi / 2) * np.cos(0)) / \\\n",
    "         (np.sin(np.pi / 2) * np.sin(np.pi / 2 + angle_y) + np.cos(np.pi / 2 + angle_y) * np.cos(np.pi / 2) * np.cos(0)))\n",
    "\n",
    "# Применение стереографической проекции для координат (A, z)\n",
    "x_proj = np.tan(z_above / 2) * np.cos(A_above)  # ksi\n",
    "y_proj = np.tan(z_above / 2) * np.sin(A_above) # eta\n",
    "\n",
    "# Звезды, которые находятся в поле зрения\n",
    "in_fov = (x_proj >= -lx) & (x_proj <= lx) & (y_proj >= -ly) & (y_proj <= ly) # маска для массива \n",
    "x_fov = np.degrees(x_proj[in_fov])\n",
    "y_fov = np.degrees(y_proj[in_fov])\n",
    "magnitude_fov = magnitude_above[in_fov]"
   ]
  },
  {
   "cell_type": "code",
   "execution_count": null,
   "metadata": {},
   "outputs": [],
   "source": [
    "x_proj"
   ]
  },
  {
   "cell_type": "code",
   "execution_count": null,
   "metadata": {},
   "outputs": [],
   "source": [
    "np.degrees(lx), np.degrees(ly)"
   ]
  },
  {
   "cell_type": "code",
   "execution_count": null,
   "metadata": {},
   "outputs": [],
   "source": [
    "x_fov, y_fov"
   ]
  },
  {
   "cell_type": "code",
   "execution_count": null,
   "metadata": {},
   "outputs": [],
   "source": [
    "# Настройка графика\n",
    "plt.figure(figsize=(8, 8),facecolor='black')\n",
    "plt.scatter(x_fov, y_fov, s=1, color='white')\n",
    "\n",
    "# Настройки графика\n",
    "plt.xlim([-lx, lx])\n",
    "plt.ylim([-ly, ly])\n",
    "plt.gca().set_facecolor('black')\n",
    "plt.gca().set_aspect('equal')\n",
    "#plt.axis('off')\n",
    "\n",
    "# Показать график\n",
    "plt.show()"
   ]
  },
  {
   "cell_type": "code",
   "execution_count": null,
   "metadata": {},
   "outputs": [],
   "source": []
  }
 ],
 "metadata": {
  "kernelspec": {
   "display_name": "base",
   "language": "python",
   "name": "python3"
  },
  "language_info": {
   "codemirror_mode": {
    "name": "ipython",
    "version": 3
   },
   "file_extension": ".py",
   "mimetype": "text/x-python",
   "name": "python",
   "nbconvert_exporter": "python",
   "pygments_lexer": "ipython3",
   "version": "3.9.13"
  }
 },
 "nbformat": 4,
 "nbformat_minor": 2
}
